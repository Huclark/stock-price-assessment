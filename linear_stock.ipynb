{
 "cells": [
  {
   "cell_type": "code",
   "execution_count": 13,
   "metadata": {
    "collapsed": true
   },
   "outputs": [
    {
     "name": "stdout",
     "output_type": "stream",
     "text": [
      "                 High        Low       Open      Close       Volume  Adj Close\n",
      "Date                                                                          \n",
      "2010-01-04  15.678981  15.547723  15.615220  15.610239   78541293.0  15.610239\n",
      "2010-01-05  15.637387  15.480475  15.620949  15.541497  120638494.0  15.541497\n",
      "2010-01-06  15.588072  15.102393  15.588072  15.149715  159744526.0  15.149715\n",
      "2010-01-07  15.193053  14.760922  15.178109  14.797037  257533695.0  14.797037\n",
      "2010-01-08  15.024933  14.672753  14.744733  14.994298  189680313.0  14.994298\n",
      "                 High        Low       Open      Close      Volume  Adj Close\n",
      "Date                                                                         \n",
      "2019-12-24  67.513000  67.139000  67.425003  67.178001   6950000.0  67.178001\n",
      "2019-12-26  68.066353  67.223503  67.308502  68.019997  13350000.0  68.019997\n",
      "2019-12-27  68.226501  67.465500  68.149498  67.594498  20768000.0  67.594498\n",
      "2019-12-30  67.650002  66.700996  67.500000  66.806999  21018000.0  66.806999\n",
      "2019-12-31  66.900002  66.454247  66.505501  66.850998  19236000.0  66.850998\n"
     ]
    },
    {
     "data": {
      "text/plain": "(2516, 6)"
     },
     "execution_count": 13,
     "metadata": {},
     "output_type": "execute_result"
    }
   ],
   "source": [
    "import yfinance as yf\n",
    "import numpy as np\n",
    "import pandas as pd\n",
    "import matplotlib.pyplot as plt\n",
    "from datetime import datetime\n",
    "from pandas import concat\n",
    "import pandas_datareader as data\n",
    "\n",
    "from sklearn.linear_model import LinearRegression\n",
    "from sklearn.preprocessing import MinMaxScaler\n",
    "from sklearn.model_selection import train_test_split\n",
    "from sklearn.metrics import mean_squared_error, r2_score, mean_absolute_error\n",
    "\n",
    "#creating a start date and end date\n",
    "start = '2010-01-01'\n",
    "#end =  datetime.today().strftime(\"%Y-%m-%d\")\n",
    "end = '2019-12-31'\n",
    "\n",
    "#creating the dataframe\n",
    "df= data.DataReader('GOOG', 'yahoo', start, end)\n",
    "\n",
    "#getting the first 5 rows and the last 5 rows\n",
    "print(df.head(5))\n",
    "print(df.tail(5))\n",
    "\n",
    "df.shape"
   ]
  },
  {
   "cell_type": "code",
   "execution_count": 9,
   "outputs": [
    {
     "name": "stdout",
     "output_type": "stream",
     "text": [
      "Empty DataFrame\n",
      "Columns: [High, Low, Open, Close, Volume, Adj Close]\n",
      "Index: []\n",
      "<class 'pandas.core.frame.DataFrame'>\n",
      "DatetimeIndex: 2516 entries, 2010-01-04 to 2019-12-31\n",
      "Data columns (total 6 columns):\n",
      " #   Column     Non-Null Count  Dtype  \n",
      "---  ------     --------------  -----  \n",
      " 0   High       2516 non-null   float64\n",
      " 1   Low        2516 non-null   float64\n",
      " 2   Open       2516 non-null   float64\n",
      " 3   Close      2516 non-null   float64\n",
      " 4   Volume     2516 non-null   float64\n",
      " 5   Adj Close  2516 non-null   float64\n",
      "dtypes: float64(6)\n",
      "memory usage: 137.6 KB\n",
      "(2516, 6)\n"
     ]
    }
   ],
   "source": [
    "#checking if there are any missing datas\n",
    "missing_data = df[df.isna().any(axis=1)]\n",
    "print(missing_data)\n",
    "df.info()\n",
    "print(df.shape)"
   ],
   "metadata": {
    "collapsed": false
   }
  },
  {
   "cell_type": "code",
   "execution_count": 10,
   "outputs": [
    {
     "name": "stdout",
     "output_type": "stream",
     "text": [
      "(2516, 4)\n",
      "(2516, 1)\n"
     ]
    }
   ],
   "source": [
    "#seperate the data into train and test data\n",
    "\n",
    "train_headers = ['High','Low', 'Open','Close']\n",
    "target_headers = ['Adj Close']\n",
    "\n",
    "x = df[train_headers]\n",
    "y = df[target_headers]\n",
    "\n",
    "print(x.shape)\n",
    "print(y.shape)\n",
    "X_train, X_test, y_train, y_test = train_test_split(x,y, test_size = 0.3, random_state =1)"
   ],
   "metadata": {
    "collapsed": false
   }
  },
  {
   "cell_type": "code",
   "execution_count": 15,
   "outputs": [
    {
     "name": "stdout",
     "output_type": "stream",
     "text": [
      "\n",
      " slope:  [[-1.08969026e-15  0.00000000e+00  4.44089210e-16  1.00000000e+00]]\n",
      "Intercept:  [-7.10542736e-15]\n",
      "mae:  0.00\n",
      "mse:  0.00\n",
      "Root mean square error:  0.00\n",
      "R2 score:  1.0\n"
     ]
    }
   ],
   "source": [
    "# setting up the Linear regression model\n",
    "rgr = LinearRegression(n_jobs=-1)\n",
    "rgr.fit(X_train, y_train)\n",
    "\n",
    "#predict the model\n",
    "y_pred = rgr.predict(X_test)\n",
    "#print(y_pred)\n",
    "\n",
    "#evaluate the model\n",
    "mae = mean_absolute_error(y_test, y_pred)\n",
    "mse = mean_squared_error(y_test, y_pred)\n",
    "rmse = np.sqrt(mse)\n",
    "r2 = r2_score(y_test, y_pred)\n",
    "\n",
    "#printing the model evaluation values\n",
    "print('\\n slope: ', rgr.coef_)\n",
    "print('Intercept: ', rgr.intercept_)\n",
    "print('mae:  {:.2f}'.format(mae))\n",
    "print('mse:  {:.2f}'.format(mse))\n",
    "print('Root mean square error:  {:.2f}'.format(rmse))\n",
    "print('R2 score: ', r2)"
   ],
   "metadata": {
    "collapsed": false
   }
  },
  {
   "cell_type": "code",
   "execution_count": null,
   "outputs": [],
   "source": [],
   "metadata": {
    "collapsed": false
   }
  }
 ],
 "metadata": {
  "kernelspec": {
   "display_name": "Python 3",
   "language": "python",
   "name": "python3"
  },
  "language_info": {
   "codemirror_mode": {
    "name": "ipython",
    "version": 2
   },
   "file_extension": ".py",
   "mimetype": "text/x-python",
   "name": "python",
   "nbconvert_exporter": "python",
   "pygments_lexer": "ipython2",
   "version": "2.7.6"
  }
 },
 "nbformat": 4,
 "nbformat_minor": 0
}
