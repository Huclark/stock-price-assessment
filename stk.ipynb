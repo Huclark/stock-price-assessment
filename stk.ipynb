{
 "cells": [
  {
   "cell_type": "code",
   "execution_count": 15,
   "metadata": {
    "collapsed": true
   },
   "outputs": [],
   "source": [
    "import yfinance as yf\n",
    "import numpy as np\n",
    "import pandas as pd\n",
    "import matplotlib.pyplot as plt\n",
    "from datetime import datetime\n",
    "from pandas import concat\n",
    "import pandas_datareader as data\n",
    "from pandas_datareader import data as pdr\n",
    "import seaborn as sns\n",
    "import matplotlib.dates as mdates\n",
    "\n",
    "from keras.layers import Dense, Dropout, LSTM\n",
    "from keras.models import Sequential\n",
    "import tensorflow"
   ]
  },
  {
   "cell_type": "code",
   "execution_count": 16,
   "outputs": [
    {
     "name": "stdout",
     "output_type": "stream",
     "text": [
      "[*********************100%***********************]  1 of 1 completed\n",
      "                Open      High       Low     Close  Adj Close     Volume\n",
      "Date                                                                    \n",
      "2010-01-04  7.622500  7.660714  7.585000  7.643214   6.515212  493729600\n",
      "2010-01-05  7.664286  7.699643  7.616071  7.656429   6.526476  601904800\n",
      "2010-01-06  7.656429  7.686786  7.526786  7.534643   6.422665  552160000\n",
      "2010-01-07  7.562500  7.571429  7.466071  7.520714   6.410791  477131200\n",
      "2010-01-08  7.510714  7.571429  7.466429  7.570714   6.453412  447610800\n",
      "                  Open        High         Low       Close   Adj Close  \\\n",
      "Date                                                                     \n",
      "2022-12-28  129.669998  131.029999  125.870003  126.040001  126.040001   \n",
      "2022-12-29  127.989998  130.479996  127.730003  129.610001  129.610001   \n",
      "2022-12-30  128.410004  129.949997  127.430000  129.929993  129.929993   \n",
      "2023-01-03  130.279999  130.899994  124.169998  125.070000  125.070000   \n",
      "2023-01-04  126.889999  128.660004  125.080002  126.360001  126.360001   \n",
      "\n",
      "               Volume  \n",
      "Date                   \n",
      "2022-12-28   85438400  \n",
      "2022-12-29   75703700  \n",
      "2022-12-30   76960600  \n",
      "2023-01-03  112117500  \n",
      "2023-01-04   88886500  \n"
     ]
    },
    {
     "data": {
      "text/plain": "(3274, 6)"
     },
     "execution_count": 16,
     "metadata": {},
     "output_type": "execute_result"
    }
   ],
   "source": [
    "#creating a start date and end date\n",
    "start = '2010-01-01'\n",
    "end =  datetime.today().strftime(\"%Y-%m-%d\")\n",
    "#end = '2019-12-31'\n",
    "yf.pdr_override()\n",
    "company = 'AAPL'\n",
    "#creating the dataframe\n",
    "df= pdr.get_data_yahoo(company, start, end)\n",
    "\n",
    "#getting the first 5 rows and the last 5 rows\n",
    "print(df.head(5))\n",
    "print(df.tail(5))\n",
    "\n",
    "df.shape"
   ],
   "metadata": {
    "collapsed": false
   }
  },
  {
   "cell_type": "code",
   "execution_count": 17,
   "outputs": [
    {
     "data": {
      "text/plain": "                Open      High       Low     Close  Adj Close     Volume\nDate                                                                    \n2010-01-04  7.622500  7.660714  7.585000  7.643214   6.515212  493729600\n2010-01-05  7.664286  7.699643  7.616071  7.656429   6.526476  601904800\n2010-01-06  7.656429  7.686786  7.526786  7.534643   6.422665  552160000\n2010-01-07  7.562500  7.571429  7.466071  7.520714   6.410791  477131200\n2010-01-08  7.510714  7.571429  7.466429  7.570714   6.453412  447610800",
      "text/html": "<div>\n<style scoped>\n    .dataframe tbody tr th:only-of-type {\n        vertical-align: middle;\n    }\n\n    .dataframe tbody tr th {\n        vertical-align: top;\n    }\n\n    .dataframe thead th {\n        text-align: right;\n    }\n</style>\n<table border=\"1\" class=\"dataframe\">\n  <thead>\n    <tr style=\"text-align: right;\">\n      <th></th>\n      <th>Open</th>\n      <th>High</th>\n      <th>Low</th>\n      <th>Close</th>\n      <th>Adj Close</th>\n      <th>Volume</th>\n    </tr>\n    <tr>\n      <th>Date</th>\n      <th></th>\n      <th></th>\n      <th></th>\n      <th></th>\n      <th></th>\n      <th></th>\n    </tr>\n  </thead>\n  <tbody>\n    <tr>\n      <th>2010-01-04</th>\n      <td>7.622500</td>\n      <td>7.660714</td>\n      <td>7.585000</td>\n      <td>7.643214</td>\n      <td>6.515212</td>\n      <td>493729600</td>\n    </tr>\n    <tr>\n      <th>2010-01-05</th>\n      <td>7.664286</td>\n      <td>7.699643</td>\n      <td>7.616071</td>\n      <td>7.656429</td>\n      <td>6.526476</td>\n      <td>601904800</td>\n    </tr>\n    <tr>\n      <th>2010-01-06</th>\n      <td>7.656429</td>\n      <td>7.686786</td>\n      <td>7.526786</td>\n      <td>7.534643</td>\n      <td>6.422665</td>\n      <td>552160000</td>\n    </tr>\n    <tr>\n      <th>2010-01-07</th>\n      <td>7.562500</td>\n      <td>7.571429</td>\n      <td>7.466071</td>\n      <td>7.520714</td>\n      <td>6.410791</td>\n      <td>477131200</td>\n    </tr>\n    <tr>\n      <th>2010-01-08</th>\n      <td>7.510714</td>\n      <td>7.571429</td>\n      <td>7.466429</td>\n      <td>7.570714</td>\n      <td>6.453412</td>\n      <td>447610800</td>\n    </tr>\n  </tbody>\n</table>\n</div>"
     },
     "execution_count": 17,
     "metadata": {},
     "output_type": "execute_result"
    }
   ],
   "source": [
    "#dropping the adj close column as it is not needed since it similar to the close column and also the date column\n",
    "#df = df.reset_index()\n",
    "df.head()\n",
    "#df = df.drop(['Date','Adj Close'], axis=1)\n",
    "df.head()"
   ],
   "metadata": {
    "collapsed": false
   }
  },
  {
   "cell_type": "code",
   "execution_count": null,
   "outputs": [],
   "source": [
    "#checking if there are any missing datas\n",
    "missing_data = df[df.isna().any(axis=1)]\n",
    "print(missing_data)\n",
    "df.info()\n",
    "print(df.shape)"
   ],
   "metadata": {
    "collapsed": false
   }
  },
  {
   "cell_type": "markdown",
   "source": [
    "Exploring the stock datasets"
   ],
   "metadata": {
    "collapsed": false
   }
  },
  {
   "cell_type": "code",
   "execution_count": null,
   "outputs": [],
   "source": [
    "#Plot line charts\n",
    "df_plot = df.copy()\n",
    "\n",
    "ncols = 2\n",
    "nrows = int(round(df_plot.shape[1] / ncols, 0))\n",
    "\n",
    "fig, ax = plt.subplots(nrows=nrows, ncols=ncols, sharex=True, figsize=(14, 7))\n",
    "for i, ax in enumerate(fig.axes):\n",
    "        sns.lineplot(data = df_plot.iloc[:, i], ax=ax)\n",
    "        ax.tick_params(axis=\"x\", rotation=30, labelsize=10, length=0)\n",
    "        #ax.xaxis.set_major_locator(mdates.AutoDateLocator())\n",
    "fig.tight_layout()\n",
    "plt.show()"
   ],
   "metadata": {
    "collapsed": false
   }
  },
  {
   "cell_type": "code",
   "execution_count": 18,
   "outputs": [
    {
     "name": "stdout",
     "output_type": "stream",
     "text": [
      "Open         1.328310\n",
      "High         1.328371\n",
      "Low          1.327524\n",
      "Close        1.327844\n",
      "Adj Close    1.331053\n",
      "Volume       2.036590\n",
      "dtype: float64\n",
      "               Open      High       Low     Close  Adj Close    Volume\n",
      "Open       1.000000  0.999893  0.999863  0.999711   0.999655 -0.499332\n",
      "High       0.999893  1.000000  0.999843  0.999864   0.999816 -0.497925\n",
      "Low        0.999863  0.999843  1.000000  0.999870   0.999805 -0.501544\n",
      "Close      0.999711  0.999864  0.999870  1.000000   0.999941 -0.499817\n",
      "Adj Close  0.999655  0.999816  0.999805  0.999941   1.000000 -0.498855\n",
      "Volume    -0.499332 -0.497925 -0.501544 -0.499817  -0.498855  1.000000\n"
     ]
    },
    {
     "data": {
      "text/plain": "<Figure size 640x480 with 2 Axes>",
      "image/png": "[encoded data removed]"
     },
     "metadata": {},
     "output_type": "display_data"
    }
   ],
   "source": [
    "#checking how much skewness\n",
    "print(df.skew())\n",
    "\n",
    "#checking the correlations between the data\n",
    "df_corr = df.corr(method='pearson')\n",
    "print(df_corr)\n",
    "\n",
    "#using correlation matrix plot\n",
    "corr_fig = plt.figure()\n",
    "axises = corr_fig.add_subplot(111)\n",
    "axcorr = axises.matshow(df_corr, vmin=-1, vmax=1)\n",
    "\n",
    "corr_fig.colorbar(axcorr)\n",
    "ticks = np.arange(0,6,1)\n",
    "\n",
    "#setting ticks for each axis\n",
    "axises.set_xticks(ticks)\n",
    "axises.set_yticks(ticks)\n",
    "\n",
    "plt.show()"
   ],
   "metadata": {
    "collapsed": false
   }
  },
  {
   "cell_type": "markdown",
   "source": [
    "checking for outliers"
   ],
   "metadata": {
    "collapsed": false
   }
  },
  {
   "cell_type": "code",
   "execution_count": null,
   "outputs": [],
   "source": [
    "#checking if there is any outliers in the dataset\n",
    "#use the simple imputer function to replace the empty values in the dataframe\n",
    "\n",
    "\n",
    "\n",
    "import matplotlib.pyplot as plt\n",
    "import seaborn as sns\n",
    "\n",
    "plt.figure(figsize=(20,9))\n",
    "\n",
    "# Create a boxplot of the data\n",
    "sns.boxplot(data=df)\n",
    "# Show the plot\n",
    "plt.show()"
   ],
   "metadata": {
    "collapsed": false
   }
  },
  {
   "cell_type": "code",
   "execution_count": null,
   "outputs": [],
   "source": [
    "from sklearn.impute import SimpleImputer\n",
    "# Find the rows containing null values\n",
    "outliers = df[df.isnull().any(axis=1)]\n",
    "\n",
    "# Drop the rows containing null values\n",
    "df = df.drop(outliers.index)\n",
    "\n",
    "#use the simple imputer function to replace the empty values in the dataframe\n",
    "\n",
    "#creating a header for the names\n",
    "header_names = ['High','Low','Open','Close','Volume','Adj Close']\n",
    "\n",
    "imputer = SimpleImputer(strategy='most_frequent')\n",
    "imputer.fit(df)\n",
    "new_dataa = imputer.transform(df)\n",
    "\n",
    "#convert the data back to a dataframe and bind the headers\n",
    "df = pd.DataFrame(new_dataa, columns=header_names)\n",
    "\n",
    "# Preview d data after removing the rows containing null values\n",
    "df.head()"
   ],
   "metadata": {
    "collapsed": false
   }
  },
  {
   "cell_type": "code",
   "execution_count": null,
   "outputs": [],
   "source": [
    "#splitting the data into training and testing\n",
    "train_header = pd.DataFrame(df['Close'][0:int(len(df)*0.70)])\n",
    "target_header = pd.DataFrame(df['Close'][int(len(df)*0.70):int(len(df))])\n",
    "print(df.shape)\n",
    "print(train_header.shape)\n",
    "print(target_header.shape)"
   ],
   "metadata": {
    "collapsed": false
   }
  },
  {
   "cell_type": "code",
   "execution_count": null,
   "outputs": [],
   "source": [
    "#Scaling the stock data so that they fit inbetween 0 and 1\n",
    "from sklearn.preprocessing import MinMaxScaler\n",
    "from numpy import set_printoptions\n",
    "scaler = MinMaxScaler(feature_range=(0,1))\n",
    "train_header_array = scaler.fit_transform(df['Close'].values.reshape(-1, 1))\n",
    "\n",
    "train_header_array\n"
   ],
   "metadata": {
    "collapsed": false
   }
  },
  {
   "cell_type": "code",
   "execution_count": null,
   "outputs": [],
   "source": [
    "#define how many days in the past we will look into\n",
    "#the closing price of the particular day would depend on the previous days\n",
    "historical_data = 50\n",
    "\n",
    "#########################\n",
    "# PREPARING TRAINING DATA\n",
    "#########################\n",
    "x_train = []\n",
    "y_train = []\n",
    "\n",
    "for x in range(historical_data, train_header_array.shape[0]):\n",
    "    x_train.append(train_header_array[x - historical_data:x, 0])\n",
    "    y_train.append((train_header_array[x, 0])) #because we are considering only one column\n",
    "\n",
    "# turning x and y train into numpy arrays\n",
    "x_train, y_train = np.array(x_train), np.array(y_train)\n"
   ],
   "metadata": {
    "collapsed": false
   }
  },
  {
   "cell_type": "code",
   "execution_count": null,
   "outputs": [],
   "source": [
    "# now we are going to reshape the x_train so that it works with the neural network\n",
    "# the 1 indicates one additional dimension\n",
    "x_train = np.reshape(x_train, (x_train.shape[0], x_train.shape[1], 1))"
   ],
   "metadata": {
    "collapsed": false
   }
  },
  {
   "cell_type": "code",
   "execution_count": null,
   "outputs": [],
   "source": [
    "##################\n",
    "# INSTANTIATE THE MODEL\n",
    "##################\n",
    "model = Sequential()\n",
    "\n",
    "# now we can specify the layers - always add 1 LSTM layer and then a Dropout layer rinse/repeat the final layer is\n",
    "# the Dense layer that is going to be just one unit, and it's going to the stock price prediction\n",
    "\n",
    "model.add(LSTM(units=50, activation = 'relu', return_sequences = True, input_shape = (x_train.shape[1], 1)))\n",
    "model.add(Dropout(0.2))\n",
    "model.add(LSTM(units =60, activation = 'relu', return_sequences = True,))\n",
    "model.add(Dropout(0.3))\n",
    "model.add(LSTM(units =80, activation = 'relu', return_sequences = True, ))\n",
    "model.add(Dropout(0.4))\n",
    "model.add(LSTM(units =120, activation = 'relu'))\n",
    "model.add(Dropout(0.5))\n",
    "# prediction of the next closing price\n",
    "model.add(Dense(units = 1))\n",
    "model.summary()"
   ],
   "metadata": {
    "collapsed": false
   }
  },
  {
   "cell_type": "code",
   "execution_count": null,
   "outputs": [],
   "source": [
    "model.compile(optimizer='adam', loss='mean_squared_error',metrics = ['mae'])\n",
    "epochs = 25\n",
    "history=model.fit(x_train, y_train, epochs=epochs)\n",
    "\n",
    "\n",
    "# Plot training & validation loss values\n",
    "fig, ax = plt.subplots(figsize=(16, 5), sharex=True)\n",
    "sns.lineplot(data=history.history[\"loss\"])\n",
    "plt.title(\"Model loss\")\n",
    "plt.ylabel(\"Loss\")\n",
    "plt.xlabel(\"Epoch\")\n",
    "ax.xaxis.set_major_locator(plt.MaxNLocator(epochs))\n",
    "plt.legend([\"Train\", \"Test\"], loc=\"upper left\")\n",
    "plt.grid()\n",
    "plt.show()"
   ],
   "metadata": {
    "collapsed": false
   }
  },
  {
   "cell_type": "markdown",
   "source": [
    "SAVE THE MODEL SO IT WOULD BE USEFUL IN STREAMLIT"
   ],
   "metadata": {
    "collapsed": false
   }
  },
  {
   "cell_type": "code",
   "execution_count": null,
   "outputs": [],
   "source": [
    "\n",
    "model.save('neww_lstm_model.h5')"
   ],
   "metadata": {
    "collapsed": false
   }
  },
  {
   "cell_type": "markdown",
   "source": [
    "Feature importance using permutation importance"
   ],
   "metadata": {
    "collapsed": false
   }
  },
  {
   "cell_type": "code",
   "execution_count": 19,
   "outputs": [
    {
     "ename": "NameError",
     "evalue": "name 'model' is not defined",
     "output_type": "error",
     "traceback": [
      "\u001B[1;31m---------------------------------------------------------------------------\u001B[0m",
      "\u001B[1;31mNameError\u001B[0m                                 Traceback (most recent call last)",
      "Cell \u001B[1;32mIn[19], line 4\u001B[0m\n\u001B[0;32m      1\u001B[0m \u001B[38;5;28;01mimport\u001B[39;00m \u001B[38;5;21;01minnvestigate\u001B[39;00m\n\u001B[0;32m      3\u001B[0m \u001B[38;5;66;03m# Create an LRP analyzer\u001B[39;00m\n\u001B[1;32m----> 4\u001B[0m analyzer \u001B[38;5;241m=\u001B[39m innvestigate\u001B[38;5;241m.\u001B[39mcreate_analyzer(\u001B[38;5;124m\"\u001B[39m\u001B[38;5;124mlrp.alpha_1_beta_0\u001B[39m\u001B[38;5;124m\"\u001B[39m, \u001B[43mmodel\u001B[49m)\n\u001B[0;32m      6\u001B[0m \u001B[38;5;66;03m# Calculate the feature importances for a single sample\u001B[39;00m\n\u001B[0;32m      7\u001B[0m x \u001B[38;5;241m=\u001B[39m x_train[\u001B[38;5;241m0\u001B[39m]  \u001B[38;5;66;03m# select a single sample from the training data\u001B[39;00m\n",
      "\u001B[1;31mNameError\u001B[0m: name 'model' is not defined"
     ]
    }
   ],
   "source": [
    "import innvestigate\n",
    "\n",
    "# Create an LRP analyzer\n",
    "analyzer = innvestigate.create_analyzer(\"lrp.alpha_1_beta_0\", model)\n",
    "\n",
    "# Calculate the feature importances for a single sample\n",
    "x = x_train[0]  # select a single sample from the training data\n",
    "relevances = analyzer.analyze(x).sum(axis=2)\n",
    "\n",
    "# Print the feature importances\n",
    "print(relevances)"
   ],
   "metadata": {
    "collapsed": false
   }
  },
  {
   "cell_type": "code",
   "execution_count": null,
   "outputs": [],
   "source": [
    "# LOAD THE DATA - it has to be data the model has not seen before\n",
    "# this is the time range of the data - we have the data but the model has never seen that data\n",
    "# so this is a perfect way to see how well it performs\n",
    "_start = '2010-01-01'\n",
    "_end = datetime.today().strftime(\"%Y-%m-%d\")\n",
    "_data = pdr.get_data_yahoo(company, _start, _end)"
   ],
   "metadata": {
    "collapsed": false
   }
  },
  {
   "cell_type": "code",
   "execution_count": null,
   "outputs": [],
   "source": [
    "#getting the actual prices\n",
    "# we need to scale prices, we need to concatenate the full data set that we want to predict on\n",
    "# this is NOT the predicted price, but the real price from the market\n",
    "actual_prices = _data['Close'].values"
   ],
   "metadata": {
    "collapsed": false
   }
  },
  {
   "cell_type": "code",
   "execution_count": null,
   "outputs": [],
   "source": [
    "# this will combine the training data and the test data\n",
    "total_dataset = pd.concat((df['Close'], _data['Close']), axis=0)\n"
   ],
   "metadata": {
    "collapsed": false
   }
  },
  {
   "cell_type": "code",
   "execution_count": null,
   "outputs": [],
   "source": [
    "# this is what our model is going to see as an input, so it can predict\n",
    "model_inputs = total_dataset[len(total_dataset) - len(_data) - historical_data:].values\n",
    "model_inputs = model_inputs.reshape(-1, 1)\n",
    "model_inputs = scaler.transform(model_inputs)\n"
   ],
   "metadata": {
    "collapsed": false
   }
  },
  {
   "cell_type": "markdown",
   "source": [
    "MAKE PREDICTIONS ON TEST DATA"
   ],
   "metadata": {
    "collapsed": false
   }
  },
  {
   "cell_type": "code",
   "execution_count": null,
   "outputs": [],
   "source": [
    "###############################\n",
    "# MAKE PREDICTIONS ON TEST DATA\n",
    "###############################\n",
    "\n",
    "# we don't use the y_test because we already have the stock prices\n",
    "x_test = []\n",
    "y_test = []\n",
    "# if you remove the + 1 it will remove the newest data\n",
    "for x in range(historical_data, len(model_inputs)):\n",
    "    x_test.append(model_inputs[x - historical_data:x, 0])\n",
    "    y_test.append(model_inputs[i, 0])\n",
    "\n",
    "x_test,y_test = np.array(x_test), np.array(y_test)\n",
    "x_test = np.reshape(x_test, (x_test.shape[0], x_test.shape[1], 1))\n",
    "\n"
   ],
   "metadata": {
    "collapsed": false
   }
  },
  {
   "cell_type": "code",
   "execution_count": null,
   "outputs": [],
   "source": [
    "# now let's predict on the x_test data,the predicted prices are now going to be scaled, so we need to reverse scale them or rather inverse_transform them\n",
    "y_pred = model.predict(x_test)\n",
    "# now we are back to the actual predicted price, non-scaled\n",
    "y_pred = scaler.inverse_transform(y_pred)\n",
    "\n",
    "# now let plot the predictions instead of just numbers.\n",
    "plt.plot(actual_prices, color=\"red\", label=f\"Actual {company} Price\")\n",
    "plt.plot(y_pred, color=\"blue\", label=f\"Predicted {company} Price\")\n",
    "plt.title(f\"{company} Share Price\")\n",
    "plt.xlabel(\"Time\")\n",
    "plt.ylabel(f\"{company} Share Price\")\n",
    "plt.legend()\n",
    "# you can also do .pdf for a vector like file (super zoomy)\n",
    "plt.savefig('Prediction_test.svg')\n",
    "# this acts as a 'end conn' situation\n",
    "plt.show()"
   ],
   "metadata": {
    "collapsed": false
   }
  },
  {
   "cell_type": "markdown",
   "source": [
    "EVALUATING THE MODEL PERFORMANCES"
   ],
   "metadata": {
    "collapsed": false
   }
  },
  {
   "cell_type": "code",
   "execution_count": null,
   "outputs": [],
   "source": [
    "from sklearn.metrics import mean_squared_error, r2_score, mean_absolute_error\n",
    "#evaluate the model\n",
    "mae = mean_absolute_error(actual_prices, y_pred)\n",
    "mse = mean_squared_error(actual_prices, y_pred)\n",
    "rmse = np.sqrt(mse)\n",
    "r2 = r2_score(actual_prices, y_pred)\n",
    "\n",
    "\n",
    "\n",
    "#printing the model evaluation values\n",
    "print('mae:  {:.2f}'.format(mae))\n",
    "print('mse:  {:.2f}'.format(mse))\n",
    "print('Root mean square error:  {:.2f}'.format(rmse))\n",
    "print('R2 score: ', r2)\n",
    "\n",
    "\n"
   ],
   "metadata": {
    "collapsed": false
   }
  },
  {
   "cell_type": "markdown",
   "source": [
    "Making Predictions for Next day"
   ],
   "metadata": {
    "collapsed": false
   }
  },
  {
   "cell_type": "code",
   "execution_count": null,
   "outputs": [],
   "source": [
    "#########################\n",
    "# PREDICTING OUR NEXT DAY\n",
    "#########################\n",
    "\n",
    "final_data = [model_inputs[len(model_inputs) + 1 - historical_data:len(model_inputs + 1), 0]]\n",
    "final_data = np.array(final_data)\n",
    "final_data = np.reshape(final_data, (final_data.shape[0], final_data.shape[1], 1))\n",
    "\n",
    "print(scaler.inverse_transform(final_data[-1]))\n",
    "\n",
    "Next_day = model.predict(final_data)\n",
    "Next_day  = scaler.inverse_transform(Next_day)\n",
    "print(f' Price Prediction for tomorrow would be: {Next_day}')"
   ],
   "metadata": {
    "collapsed": false
   }
  },
  {
   "cell_type": "code",
   "execution_count": null,
   "outputs": [],
   "source": [],
   "metadata": {
    "collapsed": false
   }
  }
 ],
 "metadata": {
  "kernelspec": {
   "display_name": "Python 3",
   "language": "python",
   "name": "python3"
  },
  "language_info": {
   "codemirror_mode": {
    "name": "ipython",
    "version": 2
   },
   "file_extension": ".py",
   "mimetype": "text/x-python",
   "name": "python",
   "nbconvert_exporter": "python",
   "pygments_lexer": "ipython2",
   "version": "2.7.6"
  }
 },
 "nbformat": 4,
 "nbformat_minor": 0
}
